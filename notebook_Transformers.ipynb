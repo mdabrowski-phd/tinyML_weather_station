{
 "cells": [
  {
   "cell_type": "markdown",
   "id": "9206ee7f",
   "metadata": {},
   "source": [
    "# Transformers for Exploratory Data Analysis (EDA)"
   ]
  },
  {
   "cell_type": "code",
   "execution_count": null,
   "id": "399c15a4",
   "metadata": {
    "ExecuteTime": {
     "end_time": "2023-10-04T10:59:56.294535Z",
     "start_time": "2023-10-04T10:59:56.228726Z"
    }
   },
   "outputs": [],
   "source": [
    "# transformer must be defined as a class implementing two methods: fit and transform\n",
    "class RemoveColumnsTransformer(BaseEstimator, TransformerMixin):\n",
    "    \n",
    "    def __init__(self, columns_to_remove: list):\n",
    "        self.columns_to_remove = columns_to_remove\n",
    "    \n",
    "    # even if nothing to fit, this method must return self\n",
    "    def fit(self, X, y=None):\n",
    "        return self \n",
    "    \n",
    "    def transform(self, X, y=None):\n",
    "        return X.drop(self.columns_to_remove, axis=1)"
   ]
  },
  {
   "cell_type": "code",
   "execution_count": null,
   "id": "a44f3f49",
   "metadata": {
    "ExecuteTime": {
     "end_time": "2023-10-04T10:59:56.297771Z",
     "start_time": "2023-10-04T10:59:56.297745Z"
    }
   },
   "outputs": [],
   "source": [
    "class ImputeColsTransformer(BaseEstimator, TransformerMixin):\n",
    "    \n",
    "    def __init__(self):\n",
    "        pass\n",
    "        \n",
    "    def fit(self, X, y=None):\n",
    "        return self \n",
    "    \n",
    "    def transform(self, X, y=None):\n",
    "        for col in X:\n",
    "            X[col] = X[col].ffill()\n",
    "       \n",
    "        return X"
   ]
  },
  {
   "cell_type": "code",
   "execution_count": null,
   "id": "6e0e9919",
   "metadata": {
    "ExecuteTime": {
     "end_time": "2023-10-04T10:59:56.300715Z",
     "start_time": "2023-10-04T10:59:56.300687Z"
    }
   },
   "outputs": [],
   "source": [
    "class MakeTSTransformer(BaseEstimator, TransformerMixin):\n",
    "    \n",
    "    def __init__(self, index_column='date_time'):\n",
    "        self.index_column = index_column\n",
    "        \n",
    "    def fit(self, X, y=None):   \n",
    "        return self \n",
    "    \n",
    "    def transform(self, X, y=None):\n",
    "        X = X.set_index(self.index_column)\n",
    "        X.index = pd.to_datetime(X.index)\n",
    "        return X"
   ]
  },
  {
   "cell_type": "code",
   "execution_count": null,
   "id": "4cd1d7dd",
   "metadata": {
    "ExecuteTime": {
     "end_time": "2023-10-04T10:59:56.303070Z",
     "start_time": "2023-10-04T10:59:56.303053Z"
    }
   },
   "outputs": [],
   "source": [
    "class CutDateTransformer(BaseEstimator, TransformerMixin):\n",
    "    \n",
    "    def __init__(self, start_date, end_date):\n",
    "        self.start_date = start_date\n",
    "        self.end_date = end_date\n",
    "        \n",
    "    def fit(self, X, y=None):   \n",
    "        return self \n",
    "    \n",
    "    def transform(self, X, y=None):\n",
    "        X = X.sort_index()\n",
    "        \n",
    "        return X.loc[self.start_date:self.end_date]"
   ]
  },
  {
   "cell_type": "code",
   "execution_count": null,
   "id": "032b767a",
   "metadata": {
    "ExecuteTime": {
     "end_time": "2023-10-04T10:59:56.305424Z",
     "start_time": "2023-10-04T10:59:56.305409Z"
    }
   },
   "outputs": [],
   "source": [
    "class SelectColumnsByTypeTransformer(BaseEstimator, TransformerMixin):\n",
    "    \n",
    "    def __init__(self, columns_type='number'):\n",
    "        self.columns_type = columns_type\n",
    "    \n",
    "    def fit(self, X, y=None):\n",
    "        return self \n",
    "    \n",
    "    def transform(self, X, y=None):\n",
    "        return X.select_dtypes(include=self.columns_type)"
   ]
  },
  {
   "cell_type": "code",
   "execution_count": null,
   "id": "356af91d",
   "metadata": {
    "ExecuteTime": {
     "end_time": "2023-10-04T10:59:56.308630Z",
     "start_time": "2023-10-04T10:59:56.308611Z"
    }
   },
   "outputs": [],
   "source": [
    "class HourlyResampleTransformer(BaseEstimator, TransformerMixin):\n",
    "    \n",
    "    def __init__(self):\n",
    "        pass\n",
    "        \n",
    "    def fit(self, X, y=None):   \n",
    "        return self \n",
    "    \n",
    "    def transform(self, X, y=None):\n",
    "        for col in X:\n",
    "            X[col] = X[col].resample('1H').mean().interpolate()  # interpolate missing values\n",
    "        \n",
    "        return X"
   ]
  },
  {
   "cell_type": "code",
   "execution_count": null,
   "id": "67650f4b",
   "metadata": {
    "ExecuteTime": {
     "end_time": "2023-10-04T10:59:56.310944Z",
     "start_time": "2023-10-04T10:59:56.310927Z"
    }
   },
   "outputs": [],
   "source": [
    "class RemoveDuplicatesTransformer(BaseEstimator, TransformerMixin):\n",
    "    \n",
    "    def __init__(self):\n",
    "        pass\n",
    "        \n",
    "    def fit(self, X, y=None):   \n",
    "        return self \n",
    "    \n",
    "    def transform(self, X, y=None):       \n",
    "        return X.loc[~X.index.duplicated()]"
   ]
  },
  {
   "cell_type": "code",
   "execution_count": null,
   "id": "46abeee5",
   "metadata": {
    "ExecuteTime": {
     "end_time": "2023-10-04T10:59:56.312265Z",
     "start_time": "2023-10-04T10:59:56.312250Z"
    }
   },
   "outputs": [],
   "source": [
    "class SelectColumnsTransformer(BaseEstimator, TransformerMixin):\n",
    "    \n",
    "    def __init__(self, columns_to_select: list):\n",
    "        self.columns_to_select = columns_to_select\n",
    "    \n",
    "    def fit(self, X, y=None):\n",
    "        return self \n",
    "    \n",
    "    def transform(self, X, y=None):\n",
    "        return X[self.columns_to_select]"
   ]
  },
  {
   "cell_type": "code",
   "execution_count": null,
   "id": "90ed8bc9",
   "metadata": {
    "ExecuteTime": {
     "end_time": "2023-10-04T10:59:56.313718Z",
     "start_time": "2023-10-04T10:59:56.313701Z"
    }
   },
   "outputs": [],
   "source": [
    "class FeatureEngineeringTransformer(BaseEstimator, TransformerMixin):\n",
    "    \n",
    "    def __init__(self, min_snow=MIN_SNOW_CM, melting_temp=MELTING_TEMPERATURE):\n",
    "        self.min_snow = min_snow\n",
    "        self.melting_temp = melting_temp\n",
    "        \n",
    "    def fit(self, X, y=None):\n",
    "        return self\n",
    "    \n",
    "    def transform(self, X, y=None):\n",
    "        \n",
    "        def gen_label(snow, temperature):\n",
    "            '''Generate the output labels (Yes and No)'''\n",
    "            if snow > self.min_snow and temperature < self.melting_temp:\n",
    "                return \"Yes\"\n",
    "            else:\n",
    "                return \"No\"\n",
    "            \n",
    "        # extract temperature, humidity and snow precipitation\n",
    "        t_list = X['tempC'].astype(float).to_list()\n",
    "        h_list = X['humidity'].astype(float).to_list()\n",
    "        s_list = X['totalSnow_cm'].astype(float).to_list()\n",
    "         \n",
    "        snow_labels = [gen_label(snow, temp) for snow, temp in zip(s_list, t_list)]\n",
    "\n",
    "        df = pd.DataFrame(list(zip(t_list[:-2], t_list[1:-1], t_list[2:],\n",
    "                                   h_list[:-2], h_list[1:-1], h_list[2:], \n",
    "                                   snow_labels[2:]\n",
    "                                  )),\n",
    "                          columns = [\"Temp0\", \"Temp1\", \"Temp2\", \"Humi0\", \"Humi1\", \"Humi2\", \"Snow\"])\n",
    "\n",
    "        return df"
   ]
  },
  {
   "cell_type": "code",
   "execution_count": null,
   "id": "9b2f4677",
   "metadata": {
    "ExecuteTime": {
     "end_time": "2023-10-04T10:59:56.318207Z",
     "start_time": "2023-10-04T10:59:56.318172Z"
    }
   },
   "outputs": [],
   "source": [
    "class RemoveOutliersTransformer(BaseEstimator, TransformerMixin):\n",
    "    \n",
    "    def __init__(self):\n",
    "        pass\n",
    "    \n",
    "    def fit(self, X, y=None):     \n",
    "        return self \n",
    "    \n",
    "    def transform(self, X, y=None):\n",
    "        '''Z-score criterium: |Z| > 3 for outlier'''\n",
    "\n",
    "        zscore_df = np.abs(X.select_dtypes([int, float]).apply(zscore))\n",
    "        z= zscore_df.apply(lambda x: x < 3) \n",
    "       \n",
    "        return X[z.sum(axis=1) == len(z.columns)]  # only rows where outlier in none of the columns"
   ]
  },
  {
   "cell_type": "code",
   "execution_count": null,
   "id": "aed9bca2",
   "metadata": {
    "ExecuteTime": {
     "end_time": "2023-10-04T10:59:56.320241Z",
     "start_time": "2023-10-04T10:59:56.320209Z"
    }
   },
   "outputs": [],
   "source": [
    "class BalanceDatasetTransformer(BaseEstimator, TransformerMixin):\n",
    "    '''balance the dataset by undersampling the majority class'''\n",
    "    \n",
    "    def __init__(self, label_column='Snow'):\n",
    "        self.label_column = label_column\n",
    "    \n",
    "    def fit(self, X, y=None):     \n",
    "        return self \n",
    "    \n",
    "    def transform(self, X, y=None):\n",
    "        '''Random subsampling of the majority class to guarantee 50% split'''\n",
    "\n",
    "        df0 = X[X[self.label_column] == \"No\"]\n",
    "        df1 = X[X[self.label_column] == \"Yes\"]\n",
    "\n",
    "        if len(df1.index) < len(df0.index):\n",
    "            df0_sub = df0.sample(len(df1.index))\n",
    "            df = pd.concat([df0_sub, df1])\n",
    "        \n",
    "        else:\n",
    "            df1_sub = df1.sample(len(df0.index))\n",
    "            df = pd.concat([df1_sub, df0])\n",
    "       \n",
    "        return df.reset_index(drop=True)"
   ]
  },
  {
   "cell_type": "code",
   "execution_count": null,
   "id": "8e29e0b3",
   "metadata": {
    "ExecuteTime": {
     "end_time": "2023-10-04T10:59:56.323136Z",
     "start_time": "2023-10-04T10:59:56.323097Z"
    }
   },
   "outputs": [],
   "source": [
    "class StandarizeColumnsTransformer(BaseEstimator, TransformerMixin):\n",
    "    '''scale the input features with Z-score independently'''\n",
    "    \n",
    "    def __init__(self):\n",
    "        self.t_avg, self.t_std = 0, 0\n",
    "        self.h_avg, self.h_std = 0, 0\n",
    "    \n",
    "    def fit(self, X, y=None):\n",
    "        \n",
    "        def scaling(val, avg, std):\n",
    "            '''Z-score scaling'''\n",
    "            return (val - avg) / (std)\n",
    "\n",
    "        # Get all values\n",
    "        t_list = X['Temp0'].tolist() + X['Temp2'].tail(2).tolist()\n",
    "        h_list = X['Humi0'].tolist() + X['Humi2'].tail(2).tolist()\n",
    "\n",
    "        # Calculate mean and standard deviation\n",
    "        self.t_avg, self.t_std = mean(t_list), std(t_list)\n",
    "        self.h_avg, self.h_std = mean(h_list), std(h_list)\n",
    "        \n",
    "        return self \n",
    "    \n",
    "    def transform(self, X, y=None):\n",
    "        \n",
    "        for col in ['Temp0', 'Temp1', 'Temp2']:\n",
    "            X[col] = X[col].apply(lambda x: scaling(x, self.t_avg, self.t_std))\n",
    "\n",
    "        for col in ['Humi0', 'Humi1', 'Humi2']:\n",
    "            X[col] = X[col].apply(lambda x: scaling(x, self.h_avg, self.h_std))\n",
    "       \n",
    "        return X"
   ]
  }
 ],
 "metadata": {
  "hide_input": false,
  "kernelspec": {
   "display_name": "Python 3 (ipykernel)",
   "language": "python",
   "name": "python3"
  },
  "language_info": {
   "codemirror_mode": {
    "name": "ipython",
    "version": 3
   },
   "file_extension": ".py",
   "mimetype": "text/x-python",
   "name": "python",
   "nbconvert_exporter": "python",
   "pygments_lexer": "ipython3",
   "version": "3.10.12"
  },
  "toc": {
   "base_numbering": 1,
   "nav_menu": {},
   "number_sections": true,
   "sideBar": true,
   "skip_h1_title": false,
   "title_cell": "Table of Contents",
   "title_sidebar": "Contents",
   "toc_cell": false,
   "toc_position": {},
   "toc_section_display": true,
   "toc_window_display": false
  },
  "varInspector": {
   "cols": {
    "lenName": 16,
    "lenType": 16,
    "lenVar": 40
   },
   "kernels_config": {
    "python": {
     "delete_cmd_postfix": "",
     "delete_cmd_prefix": "del ",
     "library": "var_list.py",
     "varRefreshCmd": "print(var_dic_list())"
    },
    "r": {
     "delete_cmd_postfix": ") ",
     "delete_cmd_prefix": "rm(",
     "library": "var_list.r",
     "varRefreshCmd": "cat(var_dic_list()) "
    }
   },
   "types_to_exclude": [
    "module",
    "function",
    "builtin_function_or_method",
    "instance",
    "_Feature"
   ],
   "window_display": false
  }
 },
 "nbformat": 4,
 "nbformat_minor": 5
}
